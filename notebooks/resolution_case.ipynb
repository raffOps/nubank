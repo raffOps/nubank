{
 "cells": [
  {
   "cell_type": "code",
   "execution_count": 12,
   "metadata": {
    "collapsed": false,
    "jupyter": {
     "outputs_hidden": false
    },
    "ExecuteTime": {
     "end_time": "2023-05-25T21:02:53.530028418Z",
     "start_time": "2023-05-25T21:02:53.489056027Z"
    }
   },
   "outputs": [],
   "source": [
    "import polars as pl\n",
    "import pandas as pd\n",
    "import json\n",
    "\n",
    "from typing import Any"
   ]
  },
  {
   "cell_type": "code",
   "execution_count": 13,
   "outputs": [],
   "source": [
    "ctx = pl.SQLContext()"
   ],
   "metadata": {
    "collapsed": false,
    "ExecuteTime": {
     "end_time": "2023-05-25T21:02:53.995630263Z",
     "start_time": "2023-05-25T21:02:53.992020888Z"
    }
   }
  },
  {
   "cell_type": "code",
   "execution_count": 14,
   "metadata": {
    "collapsed": false,
    "jupyter": {
     "outputs_hidden": false
    },
    "ExecuteTime": {
     "end_time": "2023-05-25T21:02:55.173292156Z",
     "start_time": "2023-05-25T21:02:55.157085974Z"
    }
   },
   "outputs": [
    {
     "data": {
      "text/plain": "<SQLContext [tables:1] at 0x7f3c7e46e750>"
     },
     "execution_count": 14,
     "metadata": {},
     "output_type": "execute_result"
    }
   ],
   "source": [
    "df = pl.read_csv(\n",
    "    \"../Tables/accounts/*.csv\",\n",
    "    dtypes={\n",
    "        \"account_id\": pl.Utf8,\n",
    "        \"customer_id\": pl.Utf8,\n",
    "        \"created_at\": pl.Datetime,\n",
    "        \"status\": pl.Utf8,\n",
    "        \"account_branch\": pl.Utf8,\n",
    "        \"account_check_digit\": pl.Utf8,\n",
    "        \"account_number\": pl.Utf8\n",
    "    }\n",
    ")\n",
    "\n",
    "ctx.register(\"accounts\", df)\n"
   ]
  },
  {
   "cell_type": "code",
   "execution_count": 15,
   "outputs": [
    {
     "data": {
      "text/plain": "<SQLContext [tables:2] at 0x7f3c7e46e750>"
     },
     "execution_count": 15,
     "metadata": {},
     "output_type": "execute_result"
    }
   ],
   "source": [
    "df = pl.read_csv(\n",
    "    \"../Tables/transfer_ins/*.csv\",\n",
    "    dtypes={\n",
    "        \"id\": pl.Utf8,\n",
    "        \"account_id\": pl.Utf8,\n",
    "        \"amount\": pl.Float64,\n",
    "        \"transaction_requested_at\": pl.Datetime,\n",
    "        \"transaction_completed_at\": pl.Datetime,\n",
    "        \"status\": pl.Utf8\n",
    "    }\n",
    ")\n",
    "\n",
    "ctx.register(\"transfer_ins\", df)"
   ],
   "metadata": {
    "collapsed": false,
    "ExecuteTime": {
     "end_time": "2023-05-25T21:02:56.522554360Z",
     "start_time": "2023-05-25T21:02:56.345333415Z"
    }
   }
  },
  {
   "cell_type": "code",
   "execution_count": 16,
   "outputs": [
    {
     "data": {
      "text/plain": "<SQLContext [tables:3] at 0x7f3c7e46e750>"
     },
     "execution_count": 16,
     "metadata": {},
     "output_type": "execute_result"
    }
   ],
   "source": [
    "df = pl.read_csv(\n",
    "    \"../Tables/transfer_outs/*.csv\",\n",
    "    dtypes={\n",
    "        \"id\": pl.Utf8,\n",
    "        \"account_id\": pl.Utf8,\n",
    "        \"amount\": pl.Float64,\n",
    "        \"transaction_requested_at\": pl.Datetime,\n",
    "        \"transaction_completed_at\": pl.Datetime,\n",
    "        \"status\": pl.Utf8\n",
    "    }\n",
    ")\n",
    "\n",
    "ctx.register(\"transfer_outs\", df)"
   ],
   "metadata": {
    "collapsed": false,
    "ExecuteTime": {
     "end_time": "2023-05-25T21:02:57.676222891Z",
     "start_time": "2023-05-25T21:02:57.586700550Z"
    }
   }
  },
  {
   "cell_type": "code",
   "execution_count": 17,
   "outputs": [
    {
     "data": {
      "text/plain": "<SQLContext [tables:4] at 0x7f3c7e46e750>"
     },
     "execution_count": 17,
     "metadata": {},
     "output_type": "execute_result"
    }
   ],
   "source": [
    "df = pl.read_csv(\n",
    "    \"../Tables/pix_movements/*.csv\",\n",
    "    dtypes={\n",
    "        \"id\": pl.Utf8,\n",
    "        \"account_id\": pl.Utf8,\n",
    "        \"in_or_out\": pl.Utf8,\n",
    "        \"pix_amount\": pl.Float64,\n",
    "        \"pix_requested_at\": pl.Datetime,\n",
    "        \"pix_completed_at\": pl.Datetime,\n",
    "        \"status\": pl.Utf8\n",
    "    }\n",
    ")\n",
    "\n",
    "ctx.register(\"pix_movements\", df)"
   ],
   "metadata": {
    "collapsed": false,
    "ExecuteTime": {
     "end_time": "2023-05-25T21:02:59.921270153Z",
     "start_time": "2023-05-25T21:02:59.632554039Z"
    }
   }
  },
  {
   "cell_type": "code",
   "execution_count": 18,
   "metadata": {
    "ExecuteTime": {
     "end_time": "2023-05-25T21:03:10.491234823Z",
     "start_time": "2023-05-25T21:03:10.404786744Z"
    }
   },
   "outputs": [],
   "source": [
    "def parse_investments(investments: list[dict[str, Any]]):\n",
    "    for investment in investments:\n",
    "        for transaction in investment[\"transactions\"]:\n",
    "            yield {\n",
    "                \"account_id\": investment[\"account_id\"],\n",
    "                **transaction\n",
    "            }\n",
    "\n",
    "with open(\"../Tables/investments/investments_json.txt\") as f:\n",
    "    investments = json.load(f)\n",
    "\n",
    "investments = list(parse_investments(investments))\n",
    "\n",
    "pd.DataFrame(investments).to_csv(\"../Tables/investments/investments_transformed.csv\")"
   ]
  },
  {
   "cell_type": "code",
   "execution_count": 26,
   "outputs": [
    {
     "data": {
      "text/plain": "<SQLContext [tables:6] at 0x7f3c7e46e750>"
     },
     "execution_count": 26,
     "metadata": {},
     "output_type": "execute_result"
    }
   ],
   "source": [
    "df = pl.read_csv(\n",
    "    \"../Tables/investments/investments_transformed.csv\",\n",
    "    dtypes={\n",
    "        \"transaction_id\": pl.Utf8,\n",
    "        \"account_id\": pl.Utf8,\n",
    "        \"type\": pl.Utf8,\n",
    "        \"amount\": pl.Float64,\n",
    "        \"investment_requested_at\": pl.Utf8,\n",
    "        \"investment_completed_at\": pl.Utf8,\n",
    "        \"investment_completed_at_timestamp\": pl.Datetime,\n",
    "        \"status\": pl.Utf8\n",
    "    }\n",
    ")\n",
    "\n",
    "ctx.register(\"investments\", df)"
   ],
   "metadata": {
    "collapsed": false,
    "ExecuteTime": {
     "end_time": "2023-05-25T21:06:31.048251638Z",
     "start_time": "2023-05-25T21:06:31.045365303Z"
    }
   }
  },
  {
   "cell_type": "code",
   "execution_count": 39,
   "outputs": [
    {
     "data": {
      "text/plain": "shape: (21_993, 3)\n┌─────────────────────────┬─────────────────────────┬───────────────────────────────────┐\n│ investment_requested_at ┆ investment_completed_at ┆ investment_completed_at_timestam… │\n│ ---                     ┆ ---                     ┆ ---                               │\n│ datetime[ms]            ┆ datetime[ms]            ┆ datetime[μs]                      │\n╞═════════════════════════╪═════════════════════════╪═══════════════════════════════════╡\n│ 2020-12-31 23:57:21     ┆ 2020-12-31 23:57:34     ┆ 2020-12-31 23:57:34               │\n│ 2020-12-31 23:50:17     ┆ 2020-12-31 23:50:34     ┆ 2020-12-31 23:50:34               │\n│ 2020-12-31 23:47:57     ┆ 2020-12-31 23:48:05     ┆ 2020-12-31 23:48:05               │\n│ 2020-12-31 23:33:50     ┆ 2020-12-31 23:33:51     ┆ 2020-12-31 23:33:51               │\n│ …                       ┆ …                       ┆ …                                 │\n│ 2020-01-01 01:03:16     ┆ 2020-01-01 01:03:20     ┆ 2020-01-01 01:03:20               │\n│ 2020-01-01 01:01:51     ┆ 2020-01-01 01:01:56     ┆ 2020-01-01 01:01:56               │\n│ 2020-01-01 00:07:42     ┆ 2020-01-01 00:07:47     ┆ 2020-01-01 00:07:47               │\n│ 2020-01-01 00:01:36     ┆ 2020-01-01 00:01:52     ┆ 2020-01-01 00:01:52               │\n└─────────────────────────┴─────────────────────────┴───────────────────────────────────┘",
      "text/html": "<div><style>\n.dataframe > thead > tr > th,\n.dataframe > tbody > tr > td {\n  text-align: right;\n}\n</style>\n<small>shape: (21_993, 3)</small><table border=\"1\" class=\"dataframe\"><thead><tr><th>investment_requested_at</th><th>investment_completed_at</th><th>investment_completed_at_timestamp</th></tr><tr><td>datetime[ms]</td><td>datetime[ms]</td><td>datetime[μs]</td></tr></thead><tbody><tr><td>2020-12-31 23:57:21</td><td>2020-12-31 23:57:34</td><td>2020-12-31 23:57:34</td></tr><tr><td>2020-12-31 23:50:17</td><td>2020-12-31 23:50:34</td><td>2020-12-31 23:50:34</td></tr><tr><td>2020-12-31 23:47:57</td><td>2020-12-31 23:48:05</td><td>2020-12-31 23:48:05</td></tr><tr><td>2020-12-31 23:33:50</td><td>2020-12-31 23:33:51</td><td>2020-12-31 23:33:51</td></tr><tr><td>2020-12-31 23:04:49</td><td>2020-12-31 23:04:51</td><td>2020-12-31 23:04:51</td></tr><tr><td>2020-12-31 22:32:58</td><td>2020-12-31 22:32:59</td><td>2020-12-31 22:32:59</td></tr><tr><td>2020-12-31 21:40:28</td><td>2020-12-31 21:40:46</td><td>2020-12-31 21:40:46</td></tr><tr><td>2020-12-31 21:10:56</td><td>null</td><td>null</td></tr><tr><td>2020-12-31 20:59:22</td><td>2020-12-31 20:59:33</td><td>2020-12-31 20:59:33</td></tr><tr><td>2020-12-31 20:40:55</td><td>2020-12-31 20:41:02</td><td>2020-12-31 20:41:02</td></tr><tr><td>2020-12-31 20:40:23</td><td>2020-12-31 20:40:34</td><td>2020-12-31 20:40:34</td></tr><tr><td>2020-12-31 20:18:23</td><td>null</td><td>null</td></tr><tr><td>&hellip;</td><td>&hellip;</td><td>&hellip;</td></tr><tr><td>2020-01-01 02:56:38</td><td>2020-01-01 02:56:46</td><td>2020-01-01 02:56:46</td></tr><tr><td>2020-01-01 02:04:00</td><td>2020-01-01 02:04:02</td><td>2020-01-01 02:04:02</td></tr><tr><td>2020-01-01 01:51:25</td><td>2020-01-01 01:51:33</td><td>2020-01-01 01:51:33</td></tr><tr><td>2020-01-01 01:51:10</td><td>2020-01-01 01:51:23</td><td>2020-01-01 01:51:23</td></tr><tr><td>2020-01-01 01:33:58</td><td>2020-01-01 01:34:08</td><td>2020-01-01 01:34:08</td></tr><tr><td>2020-01-01 01:22:30</td><td>2020-01-01 01:22:34</td><td>2020-01-01 01:22:34</td></tr><tr><td>2020-01-01 01:22:11</td><td>2020-01-01 01:22:12</td><td>2020-01-01 01:22:12</td></tr><tr><td>2020-01-01 01:14:31</td><td>2020-01-01 01:14:48</td><td>2020-01-01 01:14:48</td></tr><tr><td>2020-01-01 01:03:16</td><td>2020-01-01 01:03:20</td><td>2020-01-01 01:03:20</td></tr><tr><td>2020-01-01 01:01:51</td><td>2020-01-01 01:01:56</td><td>2020-01-01 01:01:56</td></tr><tr><td>2020-01-01 00:07:42</td><td>2020-01-01 00:07:47</td><td>2020-01-01 00:07:47</td></tr><tr><td>2020-01-01 00:01:36</td><td>2020-01-01 00:01:52</td><td>2020-01-01 00:01:52</td></tr></tbody></table></div>"
     },
     "execution_count": 39,
     "metadata": {},
     "output_type": "execute_result"
    }
   ],
   "source": [
    "ctx.execute(\n",
    "    \"\"\"\n",
    "    SELECT\n",
    "        cast((investment_requested_at || '000') as timestamp) as investment_requested_at,\n",
    "        cast((investment_completed_at || '000') as timestamp) as investment_completed_at,\n",
    "        investment_completed_at_timestamp\n",
    "    FROM investments\n",
    "    order by investment_requested_at desc\n",
    "    \"\"\"\n",
    ").collect()"
   ],
   "metadata": {
    "collapsed": false,
    "ExecuteTime": {
     "end_time": "2023-05-25T21:19:16.343688070Z",
     "start_time": "2023-05-25T21:19:16.332556410Z"
    }
   }
  },
  {
   "cell_type": "code",
   "execution_count": null,
   "outputs": [],
   "source": [],
   "metadata": {
    "collapsed": false
   }
  }
 ],
 "metadata": {
  "kernelspec": {
   "display_name": "Python 3 (ipykernel)",
   "language": "python",
   "name": "python3"
  },
  "language_info": {
   "codemirror_mode": {
    "name": "ipython",
    "version": 3
   },
   "file_extension": ".py",
   "mimetype": "text/x-python",
   "name": "python",
   "nbconvert_exporter": "python",
   "pygments_lexer": "ipython3",
   "version": "3.11.0rc1"
  }
 },
 "nbformat": 4,
 "nbformat_minor": 4
}
